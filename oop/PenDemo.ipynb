{
 "cells": [
  {
   "cell_type": "code",
   "execution_count": null,
   "metadata": {},
   "outputs": [],
   "source": [
    "class     Pen :\n",
    "    def __init__(self):\n",
    "        self.cost=20.00\n",
    "        self.color=\"green\"\n",
    "\n",
    "    def write(self):\n",
    "        print('This is write method :'+self.color)\n",
    "        \n",
    "obj  =   Pen()\n",
    "obj.write()"
   ]
  }
 ],
 "metadata": {
  "kernelspec": {
   "display_name": "Python 3",
   "language": "python",
   "name": "python3"
  },
  "language_info": {
   "codemirror_mode": {
    "name": "ipython",
    "version": 3
   },
   "file_extension": ".py",
   "mimetype": "text/x-python",
   "name": "python",
   "nbconvert_exporter": "python",
   "pygments_lexer": "ipython3",
   "version": "3.7.3"
  }
 },
 "nbformat": 4,
 "nbformat_minor": 4
}
